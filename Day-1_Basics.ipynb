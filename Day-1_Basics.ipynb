{
 "cells": [
  {
   "cell_type": "markdown",
   "id": "e26916e5",
   "metadata": {},
   "source": [
    "# Basics of python"
   ]
  },
  {
   "cell_type": "code",
   "execution_count": 1,
   "id": "3b664b3b",
   "metadata": {},
   "outputs": [
    {
     "name": "stdout",
     "output_type": "stream",
     "text": [
      "Hello, World\n"
     ]
    }
   ],
   "source": [
    "print(\"Hello, World\") #Python is case sensitive"
   ]
  },
  {
   "cell_type": "code",
   "execution_count": 10,
   "id": "e2d231c6",
   "metadata": {},
   "outputs": [
    {
     "name": "stdout",
     "output_type": "stream",
     "text": [
      "Hello\n"
     ]
    }
   ],
   "source": [
    "print('Hello')"
   ]
  },
  {
   "cell_type": "code",
   "execution_count": 11,
   "id": "54d597e8",
   "metadata": {},
   "outputs": [
    {
     "name": "stdout",
     "output_type": "stream",
     "text": [
      "10.5\n"
     ]
    }
   ],
   "source": [
    "print(10.5)"
   ]
  },
  {
   "cell_type": "markdown",
   "id": "3d6c453e",
   "metadata": {},
   "source": [
    "#### Shortcut keys"
   ]
  },
  {
   "cell_type": "markdown",
   "id": "4af9dd93",
   "metadata": {},
   "source": [
    "##### Shift+Enter - Running cell"
   ]
  },
  {
   "cell_type": "markdown",
   "id": "e06d9ffd",
   "metadata": {},
   "source": [
    "##### A - To add a cell above"
   ]
  },
  {
   "cell_type": "markdown",
   "id": "827293a1",
   "metadata": {},
   "source": [
    "##### B - To add a cell below"
   ]
  },
  {
   "cell_type": "markdown",
   "id": "d3dcf40e",
   "metadata": {},
   "source": [
    "##### DD - To delete"
   ]
  },
  {
   "cell_type": "markdown",
   "id": "2d53292d",
   "metadata": {},
   "source": [
    "##### X to cut the cell"
   ]
  },
  {
   "cell_type": "code",
   "execution_count": null,
   "id": "1770cdb5",
   "metadata": {},
   "outputs": [],
   "source": []
  }
 ],
 "metadata": {
  "kernelspec": {
   "display_name": "Python 3 (ipykernel)",
   "language": "python",
   "name": "python3"
  },
  "language_info": {
   "codemirror_mode": {
    "name": "ipython",
    "version": 3
   },
   "file_extension": ".py",
   "mimetype": "text/x-python",
   "name": "python",
   "nbconvert_exporter": "python",
   "pygments_lexer": "ipython3",
   "version": "3.9.7"
  }
 },
 "nbformat": 4,
 "nbformat_minor": 5
}
